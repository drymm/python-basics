{
 "cells": [
  {
   "cell_type": "code",
   "execution_count": 1,
   "metadata": {},
   "outputs": [],
   "source": [
    "import pandas as pd"
   ]
  },
  {
   "cell_type": "code",
   "execution_count": 6,
   "metadata": {},
   "outputs": [],
   "source": [
    "google = pd.read_csv(\"data/google_stock_price.csv\", squeeze=True)"
   ]
  },
  {
   "cell_type": "code",
   "execution_count": 7,
   "metadata": {},
   "outputs": [
    {
     "data": {
      "text/plain": [
       "0    50.12\n",
       "1    54.10\n",
       "2    54.65\n",
       "Name: Stock Price, dtype: float64"
      ]
     },
     "execution_count": 7,
     "metadata": {},
     "output_type": "execute_result"
    }
   ],
   "source": [
    "google[:3]"
   ]
  },
  {
   "cell_type": "markdown",
   "metadata": {},
   "source": [
    "Here's a function we want to apply"
   ]
  },
  {
   "cell_type": "code",
   "execution_count": 10,
   "metadata": {},
   "outputs": [],
   "source": [
    "def classify_perf(number):\n",
    "    if number < 300:\n",
    "        return \"Not so bad\"\n",
    "    elif number >= 300 and number < 650:\n",
    "        return \"Decent\"\n",
    "    else:\n",
    "        return \"Spec-fucking-tacular\""
   ]
  },
  {
   "cell_type": "code",
   "execution_count": 11,
   "metadata": {},
   "outputs": [
    {
     "data": {
      "text/plain": [
       "0                 Not so bad\n",
       "1                 Not so bad\n",
       "2                 Not so bad\n",
       "3                 Not so bad\n",
       "4                 Not so bad\n",
       "5                 Not so bad\n",
       "6                 Not so bad\n",
       "7                 Not so bad\n",
       "8                 Not so bad\n",
       "9                 Not so bad\n",
       "10                Not so bad\n",
       "11                Not so bad\n",
       "12                Not so bad\n",
       "13                Not so bad\n",
       "14                Not so bad\n",
       "15                Not so bad\n",
       "16                Not so bad\n",
       "17                Not so bad\n",
       "18                Not so bad\n",
       "19                Not so bad\n",
       "20                Not so bad\n",
       "21                Not so bad\n",
       "22                Not so bad\n",
       "23                Not so bad\n",
       "24                Not so bad\n",
       "25                Not so bad\n",
       "26                Not so bad\n",
       "27                Not so bad\n",
       "28                Not so bad\n",
       "29                Not so bad\n",
       "                ...         \n",
       "2982    Spec-fucking-tacular\n",
       "2983    Spec-fucking-tacular\n",
       "2984    Spec-fucking-tacular\n",
       "2985    Spec-fucking-tacular\n",
       "2986    Spec-fucking-tacular\n",
       "2987    Spec-fucking-tacular\n",
       "2988    Spec-fucking-tacular\n",
       "2989    Spec-fucking-tacular\n",
       "2990    Spec-fucking-tacular\n",
       "2991    Spec-fucking-tacular\n",
       "2992    Spec-fucking-tacular\n",
       "2993    Spec-fucking-tacular\n",
       "2994    Spec-fucking-tacular\n",
       "2995    Spec-fucking-tacular\n",
       "2996    Spec-fucking-tacular\n",
       "2997    Spec-fucking-tacular\n",
       "2998    Spec-fucking-tacular\n",
       "2999    Spec-fucking-tacular\n",
       "3000    Spec-fucking-tacular\n",
       "3001    Spec-fucking-tacular\n",
       "3002    Spec-fucking-tacular\n",
       "3003    Spec-fucking-tacular\n",
       "3004    Spec-fucking-tacular\n",
       "3005    Spec-fucking-tacular\n",
       "3006    Spec-fucking-tacular\n",
       "3007    Spec-fucking-tacular\n",
       "3008    Spec-fucking-tacular\n",
       "3009    Spec-fucking-tacular\n",
       "3010    Spec-fucking-tacular\n",
       "3011    Spec-fucking-tacular\n",
       "Name: Stock Price, Length: 3012, dtype: object"
      ]
     },
     "execution_count": 11,
     "metadata": {},
     "output_type": "execute_result"
    }
   ],
   "source": [
    "google.apply(classify_perf)"
   ]
  },
  {
   "cell_type": "markdown",
   "metadata": {},
   "source": [
    "Here's an **anonymous** function!"
   ]
  },
  {
   "cell_type": "code",
   "execution_count": 17,
   "metadata": {},
   "outputs": [
    {
     "data": {
      "text/plain": [
       "0        350.84\n",
       "1        378.70\n",
       "2        382.55\n",
       "3        366.66\n",
       "4        370.65\n",
       "5        377.30\n",
       "6        371.14\n",
       "7        356.65\n",
       "8        357.91\n",
       "9        350.49\n",
       "10       354.90\n",
       "11       349.65\n",
       "12       355.18\n",
       "13       357.70\n",
       "14       357.70\n",
       "15       368.27\n",
       "16       375.90\n",
       "17       389.83\n",
       "18       391.58\n",
       "19       398.51\n",
       "20       410.83\n",
       "21       417.34\n",
       "22       412.02\n",
       "23       413.91\n",
       "24       422.45\n",
       "25       419.02\n",
       "26       413.49\n",
       "27       443.59\n",
       "28       458.29\n",
       "29       453.18\n",
       "         ...   \n",
       "2982    4726.54\n",
       "2983    4677.82\n",
       "2984    4760.28\n",
       "2985    4788.77\n",
       "2986    4844.70\n",
       "2987    4894.47\n",
       "2988    4861.43\n",
       "2989    4884.39\n",
       "2990    4867.52\n",
       "2991    4939.41\n",
       "2992    5005.63\n",
       "2993    5044.48\n",
       "2994    5018.86\n",
       "2995    5046.65\n",
       "2996    5038.95\n",
       "2997    5136.46\n",
       "2998    5158.72\n",
       "2999    5188.33\n",
       "3000    5170.41\n",
       "3001    5199.18\n",
       "3002    5178.39\n",
       "3003    5168.94\n",
       "3004    5192.39\n",
       "3005    5221.37\n",
       "3006    5381.53\n",
       "3007    5410.16\n",
       "3008    5397.49\n",
       "3009    5412.26\n",
       "3010    5401.27\n",
       "3011    5475.54\n",
       "Name: Stock Price, Length: 3012, dtype: float64"
      ]
     },
     "execution_count": 17,
     "metadata": {},
     "output_type": "execute_result"
    }
   ],
   "source": [
    "google.apply(lambda abc : abc *7 )"
   ]
  },
  {
   "cell_type": "markdown",
   "metadata": {},
   "source": [
    "### The Map Method"
   ]
  },
  {
   "cell_type": "code",
   "execution_count": 20,
   "metadata": {},
   "outputs": [
    {
     "data": {
      "text/plain": [
       "0     Bulbasaur\n",
       "1       Ivysaur\n",
       "2      Venusaur\n",
       "3    Charmander\n",
       "4    Charmeleon\n",
       "Name: Pokemon, dtype: object"
      ]
     },
     "execution_count": 20,
     "metadata": {},
     "output_type": "execute_result"
    }
   ],
   "source": [
    "pokemon_names = pd.read_csv(\"data/pokemon.csv\", usecols=[\"Pokemon\"], squeeze=True)\n",
    "pokemon_names[:5]"
   ]
  },
  {
   "cell_type": "code",
   "execution_count": 21,
   "metadata": {},
   "outputs": [
    {
     "data": {
      "text/plain": [
       "Pokemon\n",
       "Bulbasaur     Grass\n",
       "Ivysaur       Grass\n",
       "Venusaur      Grass\n",
       "Charmander     Fire\n",
       "Charmeleon     Fire\n",
       "Name: Type, dtype: object"
      ]
     },
     "execution_count": 21,
     "metadata": {},
     "output_type": "execute_result"
    }
   ],
   "source": [
    "pokemon_types = pd.read_csv(\"data/pokemon.csv\", index_col=\"Pokemon\", squeeze=True)\n",
    "pokemon_types[:5]"
   ]
  },
  {
   "cell_type": "code",
   "execution_count": 22,
   "metadata": {},
   "outputs": [
    {
     "data": {
      "text/plain": [
       "0         Grass\n",
       "1         Grass\n",
       "2         Grass\n",
       "3          Fire\n",
       "4          Fire\n",
       "5          Fire\n",
       "6         Water\n",
       "7         Water\n",
       "8         Water\n",
       "9           Bug\n",
       "10          Bug\n",
       "11          Bug\n",
       "12          Bug\n",
       "13          Bug\n",
       "14          Bug\n",
       "15       Normal\n",
       "16       Normal\n",
       "17       Normal\n",
       "18       Normal\n",
       "19       Normal\n",
       "20       Normal\n",
       "21       Normal\n",
       "22       Poison\n",
       "23       Poison\n",
       "24     Electric\n",
       "25     Electric\n",
       "26       Ground\n",
       "27       Ground\n",
       "28       Poison\n",
       "29       Poison\n",
       "         ...   \n",
       "691       Water\n",
       "692       Water\n",
       "693    Electric\n",
       "694    Electric\n",
       "695        Rock\n",
       "696        Rock\n",
       "697        Rock\n",
       "698        Rock\n",
       "699       Fairy\n",
       "700    Fighting\n",
       "701    Electric\n",
       "702        Rock\n",
       "703      Dragon\n",
       "704      Dragon\n",
       "705      Dragon\n",
       "706       Steel\n",
       "707       Ghost\n",
       "708       Ghost\n",
       "709       Ghost\n",
       "710       Ghost\n",
       "711         Ice\n",
       "712         Ice\n",
       "713      Flying\n",
       "714      Flying\n",
       "715       Fairy\n",
       "716        Dark\n",
       "717      Dragon\n",
       "718        Rock\n",
       "719     Psychic\n",
       "720        Fire\n",
       "Name: Pokemon, Length: 721, dtype: object"
      ]
     },
     "execution_count": 22,
     "metadata": {},
     "output_type": "execute_result"
    }
   ],
   "source": [
    "pokemon_names.map(pokemon_types)"
   ]
  },
  {
   "cell_type": "code",
   "execution_count": 26,
   "metadata": {},
   "outputs": [
    {
     "data": {
      "text/plain": [
       "0     Bulbasaur\n",
       "1       Ivysaur\n",
       "2      Venusaur\n",
       "3    Charmander\n",
       "4    Charmeleon\n",
       "Name: Pokemon, dtype: object"
      ]
     },
     "execution_count": 26,
     "metadata": {},
     "output_type": "execute_result"
    }
   ],
   "source": [
    "pokemon_names = pd.read_csv(\"data/pokemon.csv\", usecols=[\"Pokemon\"], squeeze=True)\n",
    "pokemon_names[:5]"
   ]
  },
  {
   "cell_type": "code",
   "execution_count": 24,
   "metadata": {
    "scrolled": true
   },
   "outputs": [
    {
     "data": {
      "text/plain": [
       "{'Abomasnow': 'Grass',\n",
       " 'Abra': 'Psychic',\n",
       " 'Absol': 'Dark',\n",
       " 'Accelgor': 'Bug',\n",
       " 'Aegislash': 'Steel',\n",
       " 'Aerodactyl': 'Rock',\n",
       " 'Aggron': 'Steel',\n",
       " 'Aipom': 'Normal',\n",
       " 'Alakazam': 'Psychic',\n",
       " 'Alomomola': 'Water',\n",
       " 'Altaria': 'Dragon',\n",
       " 'Amaura': 'Rock',\n",
       " 'Ambipom': 'Normal',\n",
       " 'Amoonguss': 'Grass',\n",
       " 'Ampharos': 'Electric',\n",
       " 'Anorith': 'Rock',\n",
       " 'Arbok': 'Poison',\n",
       " 'Arcanine': 'Fire',\n",
       " 'Arceus': 'Normal',\n",
       " 'Archen': 'Rock',\n",
       " 'Archeops': 'Rock',\n",
       " 'Ariados': 'Bug',\n",
       " 'Armaldo': 'Rock',\n",
       " 'Aromatisse': 'Fairy',\n",
       " 'Aron': 'Steel',\n",
       " 'Articuno': 'Ice',\n",
       " 'Audino': 'Normal',\n",
       " 'Aurorus': 'Rock',\n",
       " 'Avalugg': 'Ice',\n",
       " 'Axew': 'Dragon',\n",
       " 'Azelf': 'Psychic',\n",
       " 'Azumarill': 'Water',\n",
       " 'Azurill': 'Normal',\n",
       " 'Bagon': 'Dragon',\n",
       " 'Baltoy': 'Ground',\n",
       " 'Banette': 'Ghost',\n",
       " 'Barbaracle': 'Rock',\n",
       " 'Barboach': 'Water',\n",
       " 'Basculin': 'Water',\n",
       " 'Bastiodon': 'Rock',\n",
       " 'Bayleef': 'Grass',\n",
       " 'Beartic': 'Ice',\n",
       " 'Beautifly': 'Bug',\n",
       " 'Beedrill': 'Bug',\n",
       " 'Beheeyem': 'Psychic',\n",
       " 'Beldum': 'Steel',\n",
       " 'Bellossom': 'Grass',\n",
       " 'Bellsprout': 'Grass',\n",
       " 'Bergmite': 'Ice',\n",
       " 'Bibarel': 'Normal',\n",
       " 'Bidoof': 'Normal',\n",
       " 'Binacle': 'Rock',\n",
       " 'Bisharp': 'Dark',\n",
       " 'Blastoise': 'Water',\n",
       " 'Blaziken': 'Fire',\n",
       " 'Blissey': 'Normal',\n",
       " 'Blitzle': 'Electric',\n",
       " 'Boldore': 'Rock',\n",
       " 'Bonsly': 'Rock',\n",
       " 'Bouffalant': 'Normal',\n",
       " 'Braixen': 'Fire',\n",
       " 'Braviary': 'Normal',\n",
       " 'Breloom': 'Grass',\n",
       " 'Bronzong': 'Steel',\n",
       " 'Bronzor': 'Steel',\n",
       " 'Budew': 'Grass',\n",
       " 'Buizel': 'Water',\n",
       " 'Bulbasaur': 'Grass',\n",
       " 'Buneary': 'Normal',\n",
       " 'Bunnelby': 'Normal',\n",
       " 'Burmy': 'Bug',\n",
       " 'Butterfree': 'Bug',\n",
       " 'Cacnea': 'Grass',\n",
       " 'Cacturne': 'Grass',\n",
       " 'Camerupt': 'Fire',\n",
       " 'Carbink': 'Rock',\n",
       " 'Carnivine': 'Grass',\n",
       " 'Carracosta': 'Water',\n",
       " 'Carvanha': 'Water',\n",
       " 'Cascoon': 'Bug',\n",
       " 'Castform': 'Normal',\n",
       " 'Caterpie': 'Bug',\n",
       " 'Celebi': 'Psychic',\n",
       " 'Chandelure': 'Ghost',\n",
       " 'Chansey': 'Normal',\n",
       " 'Charizard': 'Fire',\n",
       " 'Charmander': 'Fire',\n",
       " 'Charmeleon': 'Fire',\n",
       " 'Chatot': 'Normal',\n",
       " 'Cherrim': 'Grass',\n",
       " 'Cherubi': 'Grass',\n",
       " 'Chesnaught': 'Grass',\n",
       " 'Chespin': 'Grass',\n",
       " 'Chikorita': 'Grass',\n",
       " 'Chimchar': 'Fire',\n",
       " 'Chimecho': 'Psychic',\n",
       " 'Chinchou': 'Water',\n",
       " 'Chingling': 'Psychic',\n",
       " 'Cinccino': 'Normal',\n",
       " 'Clamperl': 'Water',\n",
       " 'Clauncher': 'Water',\n",
       " 'Clawitzer': 'Water',\n",
       " 'Claydol': 'Ground',\n",
       " 'Clefable': 'Fairy',\n",
       " 'Clefairy': 'Fairy',\n",
       " 'Cleffa': 'Fairy',\n",
       " 'Cloyster': 'Water',\n",
       " 'Cobalion': 'Steel',\n",
       " 'Cofagrigus': 'Ghost',\n",
       " 'Combee': 'Bug',\n",
       " 'Combusken': 'Fire',\n",
       " 'Conkeldurr': 'Fighting',\n",
       " 'Corphish': 'Water',\n",
       " 'Corsola': 'Water',\n",
       " 'Cottonee': 'Grass',\n",
       " 'Cradily': 'Rock',\n",
       " 'Cranidos': 'Rock',\n",
       " 'Crawdaunt': 'Water',\n",
       " 'Cresselia': 'Psychic',\n",
       " 'Croagunk': 'Poison',\n",
       " 'Crobat': 'Poison',\n",
       " 'Croconaw': 'Water',\n",
       " 'Crustle': 'Bug',\n",
       " 'Cryogonal': 'Ice',\n",
       " 'Cubchoo': 'Ice',\n",
       " 'Cubone': 'Ground',\n",
       " 'Cyndaquil': 'Fire',\n",
       " 'Darkrai': 'Dark',\n",
       " 'Darmanitan': 'Fire',\n",
       " 'Darumaka': 'Fire',\n",
       " 'Dedenne': 'Electric',\n",
       " 'Deerling': 'Normal',\n",
       " 'Deino': 'Dark',\n",
       " 'Delcatty': 'Normal',\n",
       " 'Delibird': 'Ice',\n",
       " 'Delphox': 'Fire',\n",
       " 'Deoxys': 'Psychic',\n",
       " 'Dewgong': 'Water',\n",
       " 'Dewott': 'Water',\n",
       " 'Dialga': 'Steel',\n",
       " 'Diancie': 'Rock',\n",
       " 'Diggersby': 'Normal',\n",
       " 'Diglett': 'Ground',\n",
       " 'Ditto': 'Normal',\n",
       " 'Dodrio': 'Normal',\n",
       " 'Doduo': 'Normal',\n",
       " 'Donphan': 'Ground',\n",
       " 'Doublade': 'Steel',\n",
       " 'Dragalge': 'Poison',\n",
       " 'Dragonair': 'Dragon',\n",
       " 'Dragonite': 'Dragon',\n",
       " 'Drapion': 'Poison',\n",
       " 'Dratini': 'Dragon',\n",
       " 'Drifblim': 'Ghost',\n",
       " 'Drifloon': 'Ghost',\n",
       " 'Drilbur': 'Ground',\n",
       " 'Drowzee': 'Psychic',\n",
       " 'Druddigon': 'Dragon',\n",
       " 'Ducklett': 'Water',\n",
       " 'Dugtrio': 'Ground',\n",
       " 'Dunsparce': 'Normal',\n",
       " 'Duosion': 'Psychic',\n",
       " 'Durant': 'Bug',\n",
       " 'Dusclops': 'Ghost',\n",
       " 'Dusknoir': 'Ghost',\n",
       " 'Duskull': 'Ghost',\n",
       " 'Dustox': 'Bug',\n",
       " 'Dwebble': 'Bug',\n",
       " 'Eelektrik': 'Electric',\n",
       " 'Eelektross': 'Electric',\n",
       " 'Eevee': 'Normal',\n",
       " 'Ekans': 'Poison',\n",
       " 'Electabuzz': 'Electric',\n",
       " 'Electivire': 'Electric',\n",
       " 'Electrike': 'Electric',\n",
       " 'Electrode': 'Electric',\n",
       " 'Elekid': 'Electric',\n",
       " 'Elgyem': 'Psychic',\n",
       " 'Emboar': 'Fire',\n",
       " 'Emolga': 'Electric',\n",
       " 'Empoleon': 'Water',\n",
       " 'Entei': 'Fire',\n",
       " 'Escavalier': 'Bug',\n",
       " 'Espeon': 'Psychic',\n",
       " 'Espurr': 'Psychic',\n",
       " 'Excadrill': 'Ground',\n",
       " 'Exeggcute': 'Grass',\n",
       " 'Exeggutor': 'Grass',\n",
       " 'Exploud': 'Normal',\n",
       " \"Farfetch'd\": 'Normal',\n",
       " 'Fearow': 'Normal',\n",
       " 'Feebas': 'Water',\n",
       " 'Fennekin': 'Fire',\n",
       " 'Feraligatr': 'Water',\n",
       " 'Ferroseed': 'Grass',\n",
       " 'Ferrothorn': 'Grass',\n",
       " 'Finneon': 'Water',\n",
       " 'Flaaffy': 'Electric',\n",
       " 'Flabébé': 'Fairy',\n",
       " 'Flareon': 'Fire',\n",
       " 'Fletchinder': 'Fire',\n",
       " 'Fletchling': 'Normal',\n",
       " 'Floatzel': 'Water',\n",
       " 'Floette': 'Fairy',\n",
       " 'Florges': 'Fairy',\n",
       " 'Flygon': 'Ground',\n",
       " 'Foongus': 'Grass',\n",
       " 'Forretress': 'Bug',\n",
       " 'Fraxure': 'Dragon',\n",
       " 'Frillish': 'Water',\n",
       " 'Froakie': 'Water',\n",
       " 'Frogadier': 'Water',\n",
       " 'Froslass': 'Ice',\n",
       " 'Furfrou': 'Normal',\n",
       " 'Furret': 'Normal',\n",
       " 'Gabite': 'Dragon',\n",
       " 'Gallade': 'Psychic',\n",
       " 'Galvantula': 'Bug',\n",
       " 'Garbodor': 'Poison',\n",
       " 'Garchomp': 'Dragon',\n",
       " 'Gardevoir': 'Psychic',\n",
       " 'Gastly': 'Ghost',\n",
       " 'Gastrodon': 'Water',\n",
       " 'Genesect': 'Bug',\n",
       " 'Gengar': 'Ghost',\n",
       " 'Geodude': 'Rock',\n",
       " 'Gible': 'Dragon',\n",
       " 'Gigalith': 'Rock',\n",
       " 'Girafarig': 'Normal',\n",
       " 'Giratina': 'Ghost',\n",
       " 'Glaceon': 'Ice',\n",
       " 'Glalie': 'Ice',\n",
       " 'Glameow': 'Normal',\n",
       " 'Gligar': 'Ground',\n",
       " 'Gliscor': 'Ground',\n",
       " 'Gloom': 'Grass',\n",
       " 'Gogoat': 'Grass',\n",
       " 'Golbat': 'Poison',\n",
       " 'Goldeen': 'Water',\n",
       " 'Golduck': 'Water',\n",
       " 'Golem': 'Rock',\n",
       " 'Golett': 'Ground',\n",
       " 'Golurk': 'Ground',\n",
       " 'Goodra': 'Dragon',\n",
       " 'Goomy': 'Dragon',\n",
       " 'Gorebyss': 'Water',\n",
       " 'Gothita': 'Psychic',\n",
       " 'Gothitelle': 'Psychic',\n",
       " 'Gothorita': 'Psychic',\n",
       " 'Gourgeist': 'Ghost',\n",
       " 'Granbull': 'Fairy',\n",
       " 'Graveler': 'Rock',\n",
       " 'Greninja': 'Water',\n",
       " 'Grimer': 'Poison',\n",
       " 'Grotle': 'Grass',\n",
       " 'Groudon': 'Ground',\n",
       " 'Grovyle': 'Grass',\n",
       " 'Growlithe': 'Fire',\n",
       " 'Grumpig': 'Psychic',\n",
       " 'Gulpin': 'Poison',\n",
       " 'Gurdurr': 'Fighting',\n",
       " 'Gyarados': 'Water',\n",
       " 'Happiny': 'Normal',\n",
       " 'Hariyama': 'Fighting',\n",
       " 'Haunter': 'Ghost',\n",
       " 'Hawlucha': 'Fighting',\n",
       " 'Haxorus': 'Dragon',\n",
       " 'Heatmor': 'Fire',\n",
       " 'Heatran': 'Fire',\n",
       " 'Heliolisk': 'Electric',\n",
       " 'Helioptile': 'Electric',\n",
       " 'Heracross': 'Bug',\n",
       " 'Herdier': 'Normal',\n",
       " 'Hippopotas': 'Ground',\n",
       " 'Hippowdon': 'Ground',\n",
       " 'Hitmonchan': 'Fighting',\n",
       " 'Hitmonlee': 'Fighting',\n",
       " 'Hitmontop': 'Fighting',\n",
       " 'Ho-oh': 'Fire',\n",
       " 'Honchkrow': 'Dark',\n",
       " 'Honedge': 'Steel',\n",
       " 'Hoopa': 'Psychic',\n",
       " 'Hoothoot': 'Normal',\n",
       " 'Hoppip': 'Grass',\n",
       " 'Horsea': 'Water',\n",
       " 'Houndoom': 'Dark',\n",
       " 'Houndour': 'Dark',\n",
       " 'Huntail': 'Water',\n",
       " 'Hydreigon': 'Dark',\n",
       " 'Hypno': 'Psychic',\n",
       " 'Igglybuff': 'Normal',\n",
       " 'Illumise': 'Bug',\n",
       " 'Infernape': 'Fire',\n",
       " 'Inkay': 'Dark',\n",
       " 'Ivysaur': 'Grass',\n",
       " 'Jellicent': 'Water',\n",
       " 'Jigglypuff': 'Normal',\n",
       " 'Jirachi': 'Steel',\n",
       " 'Jolteon': 'Electric',\n",
       " 'Joltik': 'Bug',\n",
       " 'Jumpluff': 'Grass',\n",
       " 'Jynx': 'Ice',\n",
       " 'Kabuto': 'Rock',\n",
       " 'Kabutops': 'Rock',\n",
       " 'Kadabra': 'Psychic',\n",
       " 'Kakuna': 'Bug',\n",
       " 'Kangaskhan': 'Normal',\n",
       " 'Karrablast': 'Bug',\n",
       " 'Kecleon': 'Normal',\n",
       " 'Keldeo': 'Water',\n",
       " 'Kingdra': 'Water',\n",
       " 'Kingler': 'Water',\n",
       " 'Kirlia': 'Psychic',\n",
       " 'Klang': 'Steel',\n",
       " 'Klefki': 'Steel',\n",
       " 'Klink': 'Steel',\n",
       " 'Klinklang': 'Steel',\n",
       " 'Koffing': 'Poison',\n",
       " 'Krabby': 'Water',\n",
       " 'Kricketot': 'Bug',\n",
       " 'Kricketune': 'Bug',\n",
       " 'Krokorok': 'Ground',\n",
       " 'Krookodile': 'Ground',\n",
       " 'Kyogre': 'Water',\n",
       " 'Kyurem': 'Dragon',\n",
       " 'Lairon': 'Steel',\n",
       " 'Lampent': 'Ghost',\n",
       " 'Landorus': 'Ground',\n",
       " 'Lanturn': 'Water',\n",
       " 'Lapras': 'Water',\n",
       " 'Larvesta': 'Bug',\n",
       " 'Larvitar': 'Rock',\n",
       " 'Latias': 'Dragon',\n",
       " 'Latios': 'Dragon',\n",
       " 'Leafeon': 'Grass',\n",
       " 'Leavanny': 'Bug',\n",
       " 'Ledian': 'Bug',\n",
       " 'Ledyba': 'Bug',\n",
       " 'Lickilicky': 'Normal',\n",
       " 'Lickitung': 'Normal',\n",
       " 'Liepard': 'Dark',\n",
       " 'Lileep': 'Rock',\n",
       " 'Lilligant': 'Grass',\n",
       " 'Lillipup': 'Normal',\n",
       " 'Linoone': 'Normal',\n",
       " 'Litleo': 'Fire',\n",
       " 'Litwick': 'Ghost',\n",
       " 'Lombre': 'Water',\n",
       " 'Lopunny': 'Normal',\n",
       " 'Lotad': 'Water',\n",
       " 'Loudred': 'Normal',\n",
       " 'Lucario': 'Fighting',\n",
       " 'Ludicolo': 'Water',\n",
       " 'Lugia': 'Psychic',\n",
       " 'Lumineon': 'Water',\n",
       " 'Lunatone': 'Rock',\n",
       " 'Luvdisc': 'Water',\n",
       " 'Luxio': 'Electric',\n",
       " 'Luxray': 'Electric',\n",
       " 'Machamp': 'Fighting',\n",
       " 'Machoke': 'Fighting',\n",
       " 'Machop': 'Fighting',\n",
       " 'Magby': 'Fire',\n",
       " 'Magcargo': 'Fire',\n",
       " 'Magikarp': 'Water',\n",
       " 'Magmar': 'Fire',\n",
       " 'Magmortar': 'Fire',\n",
       " 'Magnemite': 'Electric',\n",
       " 'Magneton': 'Electric',\n",
       " 'Magnezone': 'Electric',\n",
       " 'Makuhita': 'Fighting',\n",
       " 'Malamar': 'Dark',\n",
       " 'Mamoswine': 'Ice',\n",
       " 'Manaphy': 'Water',\n",
       " 'Mandibuzz': 'Dark',\n",
       " 'Manectric': 'Electric',\n",
       " 'Mankey': 'Fighting',\n",
       " 'Mantine': 'Water',\n",
       " 'Mantyke': 'Water',\n",
       " 'Maractus': 'Grass',\n",
       " 'Mareep': 'Electric',\n",
       " 'Marill': 'Water',\n",
       " 'Marowak': 'Ground',\n",
       " 'Marshtomp': 'Water',\n",
       " 'Masquerain': 'Bug',\n",
       " 'Mawile': 'Steel',\n",
       " 'Medicham': 'Fighting',\n",
       " 'Meditite': 'Fighting',\n",
       " 'Meganium': 'Grass',\n",
       " 'Meloetta': 'Normal',\n",
       " 'Meowstic': 'Psychic',\n",
       " 'Meowth': 'Normal',\n",
       " 'Mesprit': 'Psychic',\n",
       " 'Metagross': 'Steel',\n",
       " 'Metang': 'Steel',\n",
       " 'Metapod': 'Bug',\n",
       " 'Mew': 'Psychic',\n",
       " 'Mewtwo': 'Psychic',\n",
       " 'Mienfoo': 'Fighting',\n",
       " 'Mienshao': 'Fighting',\n",
       " 'Mightyena': 'Dark',\n",
       " 'Milotic': 'Water',\n",
       " 'Miltank': 'Normal',\n",
       " 'Mime Jr.': 'Psychic',\n",
       " 'Minccino': 'Normal',\n",
       " 'Minun': 'Electric',\n",
       " 'Misdreavus': 'Ghost',\n",
       " 'Mismagius': 'Ghost',\n",
       " 'Moltres': 'Fire',\n",
       " 'Monferno': 'Fire',\n",
       " 'Mothim': 'Bug',\n",
       " 'Mr. Mime': 'Psychic',\n",
       " 'Mudkip': 'Water',\n",
       " 'Muk': 'Poison',\n",
       " 'Munchlax': 'Normal',\n",
       " 'Munna': 'Psychic',\n",
       " 'Murkrow': 'Dark',\n",
       " 'Musharna': 'Psychic',\n",
       " 'Natu': 'Psychic',\n",
       " 'Nidoking': 'Poison',\n",
       " 'Nidoqueen': 'Poison',\n",
       " 'Nidoran': 'Poison',\n",
       " 'Nidoran♂': 'Poison',\n",
       " 'Nidorina': 'Poison',\n",
       " 'Nidorino': 'Poison',\n",
       " 'Nincada': 'Bug',\n",
       " 'Ninetales': 'Fire',\n",
       " 'Ninjask': 'Bug',\n",
       " 'Noctowl': 'Normal',\n",
       " 'Noibat': 'Flying',\n",
       " 'Noivern': 'Flying',\n",
       " 'Nosepass': 'Rock',\n",
       " 'Numel': 'Fire',\n",
       " 'Nuzleaf': 'Grass',\n",
       " 'Octillery': 'Water',\n",
       " 'Oddish': 'Grass',\n",
       " 'Omanyte': 'Rock',\n",
       " 'Omastar': 'Rock',\n",
       " 'Onix': 'Rock',\n",
       " 'Oshawott': 'Water',\n",
       " 'Pachirisu': 'Electric',\n",
       " 'Palkia': 'Water',\n",
       " 'Palpitoad': 'Water',\n",
       " 'Pancham': 'Fighting',\n",
       " 'Pangoro': 'Fighting',\n",
       " 'Panpour': 'Water',\n",
       " 'Pansage': 'Grass',\n",
       " 'Pansear': 'Fire',\n",
       " 'Paras': 'Bug',\n",
       " 'Parasect': 'Bug',\n",
       " 'Patrat': 'Normal',\n",
       " 'Pawniard': 'Dark',\n",
       " 'Pelipper': 'Water',\n",
       " 'Persian': 'Normal',\n",
       " 'Petilil': 'Grass',\n",
       " 'Phanpy': 'Ground',\n",
       " 'Phantump': 'Ghost',\n",
       " 'Phione': 'Water',\n",
       " 'Pichu': 'Electric',\n",
       " 'Pidgeot': 'Normal',\n",
       " 'Pidgeotto': 'Normal',\n",
       " 'Pidgey': 'Normal',\n",
       " 'Pidove': 'Normal',\n",
       " 'Pignite': 'Fire',\n",
       " 'Pikachu': 'Electric',\n",
       " 'Piloswine': 'Ice',\n",
       " 'Pineco': 'Bug',\n",
       " 'Pinsir': 'Bug',\n",
       " 'Piplup': 'Water',\n",
       " 'Plusle': 'Electric',\n",
       " 'Politoed': 'Water',\n",
       " 'Poliwag': 'Water',\n",
       " 'Poliwhirl': 'Water',\n",
       " 'Poliwrath': 'Water',\n",
       " 'Ponyta': 'Fire',\n",
       " 'Poochyena': 'Dark',\n",
       " 'Porygon': 'Normal',\n",
       " 'Porygon-Z': 'Normal',\n",
       " 'Porygon2': 'Normal',\n",
       " 'Primeape': 'Fighting',\n",
       " 'Prinplup': 'Water',\n",
       " 'Probopass': 'Rock',\n",
       " 'Psyduck': 'Water',\n",
       " 'Pumpkaboo': 'Ghost',\n",
       " 'Pupitar': 'Rock',\n",
       " 'Purrloin': 'Dark',\n",
       " 'Purugly': 'Normal',\n",
       " 'Pyroar': 'Fire',\n",
       " 'Quagsire': 'Water',\n",
       " 'Quilava': 'Fire',\n",
       " 'Quilladin': 'Grass',\n",
       " 'Qwilfish': 'Water',\n",
       " 'Raichu': 'Electric',\n",
       " 'Raikou': 'Electric',\n",
       " 'Ralts': 'Psychic',\n",
       " 'Rampardos': 'Rock',\n",
       " 'Rapidash': 'Fire',\n",
       " 'Raticate': 'Normal',\n",
       " 'Rattata': 'Normal',\n",
       " 'Rayquaza': 'Dragon',\n",
       " 'Regice': 'Ice',\n",
       " 'Regigigas': 'Normal',\n",
       " 'Regirock': 'Rock',\n",
       " 'Registeel': 'Steel',\n",
       " 'Relicanth': 'Water',\n",
       " 'Remoraid': 'Water',\n",
       " 'Reshiram': 'Dragon',\n",
       " 'Reuniclus': 'Psychic',\n",
       " 'Rhydon': 'Ground',\n",
       " 'Rhyhorn': 'Ground',\n",
       " 'Rhyperior': 'Ground',\n",
       " 'Riolu': 'Fighting',\n",
       " 'Roggenrola': 'Rock',\n",
       " 'Roselia': 'Grass',\n",
       " 'Roserade': 'Grass',\n",
       " 'Rotom': 'Electric',\n",
       " 'Rufflet': 'Normal',\n",
       " 'Sableye': 'Dark',\n",
       " 'Salamence': 'Dragon',\n",
       " 'Samurott': 'Water',\n",
       " 'Sandile': 'Ground',\n",
       " 'Sandshrew': 'Ground',\n",
       " 'Sandslash': 'Ground',\n",
       " 'Sawk': 'Fighting',\n",
       " 'Sawsbuck': 'Normal',\n",
       " 'Scatterbug': 'Bug',\n",
       " 'Sceptile': 'Grass',\n",
       " 'Scizor': 'Bug',\n",
       " 'Scolipede': 'Bug',\n",
       " 'Scrafty': 'Dark',\n",
       " 'Scraggy': 'Dark',\n",
       " 'Scyther': 'Bug',\n",
       " 'Seadra': 'Water',\n",
       " 'Seaking': 'Water',\n",
       " 'Sealeo': 'Ice',\n",
       " 'Seedot': 'Grass',\n",
       " 'Seel': 'Water',\n",
       " 'Seismitoad': 'Water',\n",
       " 'Sentret': 'Normal',\n",
       " 'Serperior': 'Grass',\n",
       " 'Servine': 'Grass',\n",
       " 'Seviper': 'Poison',\n",
       " 'Sewaddle': 'Bug',\n",
       " 'Sharpedo': 'Water',\n",
       " 'Shaymin': 'Grass',\n",
       " 'Shedinja': 'Bug',\n",
       " 'Shelgon': 'Dragon',\n",
       " 'Shellder': 'Water',\n",
       " 'Shellos': 'Water',\n",
       " 'Shelmet': 'Bug',\n",
       " 'Shieldon': 'Rock',\n",
       " 'Shiftry': 'Grass',\n",
       " 'Shinx': 'Electric',\n",
       " 'Shroomish': 'Grass',\n",
       " 'Shuckle': 'Bug',\n",
       " 'Shuppet': 'Ghost',\n",
       " 'Sigilyph': 'Psychic',\n",
       " 'Silcoon': 'Bug',\n",
       " 'Simipour': 'Water',\n",
       " 'Simisage': 'Grass',\n",
       " 'Simisear': 'Fire',\n",
       " 'Skarmory': 'Steel',\n",
       " 'Skiddo': 'Grass',\n",
       " 'Skiploom': 'Grass',\n",
       " 'Skitty': 'Normal',\n",
       " 'Skorupi': 'Poison',\n",
       " 'Skrelp': 'Poison',\n",
       " 'Skuntank': 'Poison',\n",
       " 'Slaking': 'Normal',\n",
       " 'Slakoth': 'Normal',\n",
       " 'Sliggoo': 'Dragon',\n",
       " 'Slowbro': 'Water',\n",
       " 'Slowking': 'Water',\n",
       " 'Slowpoke': 'Water',\n",
       " 'Slugma': 'Fire',\n",
       " 'Slurpuff': 'Fairy',\n",
       " 'Smeargle': 'Normal',\n",
       " 'Smoochum': 'Ice',\n",
       " 'Sneasel': 'Dark',\n",
       " 'Snivy': 'Grass',\n",
       " 'Snorlax': 'Normal',\n",
       " 'Snorunt': 'Ice',\n",
       " 'Snover': 'Grass',\n",
       " 'Snubbull': 'Fairy',\n",
       " 'Solosis': 'Psychic',\n",
       " 'Solrock': 'Rock',\n",
       " 'Spearow': 'Normal',\n",
       " 'Spewpa': 'Bug',\n",
       " 'Spheal': 'Ice',\n",
       " 'Spinarak': 'Bug',\n",
       " 'Spinda': 'Normal',\n",
       " 'Spiritomb': 'Ghost',\n",
       " 'Spoink': 'Psychic',\n",
       " 'Spritzee': 'Fairy',\n",
       " 'Squirtle': 'Water',\n",
       " 'Stantler': 'Normal',\n",
       " 'Staraptor': 'Normal',\n",
       " 'Staravia': 'Normal',\n",
       " 'Starly': 'Normal',\n",
       " 'Starmie': 'Water',\n",
       " 'Staryu': 'Water',\n",
       " 'Steelix': 'Steel',\n",
       " 'Stoutland': 'Normal',\n",
       " 'Stunfisk': 'Ground',\n",
       " 'Stunky': 'Poison',\n",
       " 'Sudowoodo': 'Rock',\n",
       " 'Suicune': 'Water',\n",
       " 'Sunflora': 'Grass',\n",
       " 'Sunkern': 'Grass',\n",
       " 'Surskit': 'Bug',\n",
       " 'Swablu': 'Normal',\n",
       " 'Swadloon': 'Bug',\n",
       " 'Swalot': 'Poison',\n",
       " 'Swampert': 'Water',\n",
       " 'Swanna': 'Water',\n",
       " 'Swellow': 'Normal',\n",
       " 'Swinub': 'Ice',\n",
       " 'Swirlix': 'Fairy',\n",
       " 'Swoobat': 'Psychic',\n",
       " 'Sylveon': 'Fairy',\n",
       " 'Taillow': 'Normal',\n",
       " 'Talonflame': 'Fire',\n",
       " 'Tangela': 'Grass',\n",
       " 'Tangrowth': 'Grass',\n",
       " 'Tauros': 'Normal',\n",
       " 'Teddiursa': 'Normal',\n",
       " 'Tentacool': 'Water',\n",
       " 'Tentacruel': 'Water',\n",
       " 'Tepig': 'Fire',\n",
       " 'Terrakion': 'Rock',\n",
       " 'Throh': 'Fighting',\n",
       " 'Thundurus': 'Electric',\n",
       " 'Timburr': 'Fighting',\n",
       " 'Tirtouga': 'Water',\n",
       " 'Togekiss': 'Fairy',\n",
       " 'Togepi': 'Fairy',\n",
       " 'Togetic': 'Fairy',\n",
       " 'Torchic': 'Fire',\n",
       " 'Torkoal': 'Fire',\n",
       " 'Tornadus': 'Flying',\n",
       " 'Torterra': 'Grass',\n",
       " 'Totodile': 'Water',\n",
       " 'Toxicroak': 'Poison',\n",
       " 'Tranquill': 'Normal',\n",
       " 'Trapinch': 'Ground',\n",
       " 'Treecko': 'Grass',\n",
       " 'Trevenant': 'Ghost',\n",
       " 'Tropius': 'Grass',\n",
       " 'Trubbish': 'Poison',\n",
       " 'Turtwig': 'Grass',\n",
       " 'Tympole': 'Water',\n",
       " 'Tynamo': 'Electric',\n",
       " 'Typhlosion': 'Fire',\n",
       " 'Tyranitar': 'Rock',\n",
       " 'Tyrantrum': 'Rock',\n",
       " 'Tyrogue': 'Fighting',\n",
       " 'Tyrunt': 'Rock',\n",
       " 'Umbreon': 'Dark',\n",
       " 'Unfezant': 'Normal',\n",
       " 'Unown': 'Psychic',\n",
       " 'Ursaring': 'Normal',\n",
       " 'Uxie': 'Psychic',\n",
       " 'Vanillish': 'Ice',\n",
       " 'Vanillite': 'Ice',\n",
       " 'Vanilluxe': 'Ice',\n",
       " 'Vaporeon': 'Water',\n",
       " 'Venipede': 'Bug',\n",
       " 'Venomoth': 'Bug',\n",
       " 'Venonat': 'Bug',\n",
       " 'Venusaur': 'Grass',\n",
       " 'Vespiquen': 'Bug',\n",
       " 'Vibrava': 'Ground',\n",
       " 'Victini': 'Psychic',\n",
       " 'Victreebel': 'Grass',\n",
       " 'Vigoroth': 'Normal',\n",
       " 'Vileplume': 'Grass',\n",
       " 'Virizion': 'Grass',\n",
       " 'Vivillon': 'Bug',\n",
       " 'Volbeat': 'Bug',\n",
       " 'Volcanion': 'Fire',\n",
       " 'Volcarona': 'Bug',\n",
       " 'Voltorb': 'Electric',\n",
       " 'Vullaby': 'Dark',\n",
       " 'Vulpix': 'Fire',\n",
       " 'Wailmer': 'Water',\n",
       " 'Wailord': 'Water',\n",
       " 'Walrein': 'Ice',\n",
       " 'Wartortle': 'Water',\n",
       " 'Watchog': 'Normal',\n",
       " 'Weavile': 'Dark',\n",
       " 'Weedle': 'Bug',\n",
       " 'Weepinbell': 'Grass',\n",
       " 'Weezing': 'Poison',\n",
       " 'Whimsicott': 'Grass',\n",
       " 'Whirlipede': 'Bug',\n",
       " 'Whiscash': 'Water',\n",
       " 'Whismur': 'Normal',\n",
       " 'Wigglytuff': 'Normal',\n",
       " 'Wingull': 'Water',\n",
       " 'Wobbuffet': 'Psychic',\n",
       " 'Woobat': 'Psychic',\n",
       " 'Wooper': 'Water',\n",
       " 'Wormadam': 'Bug',\n",
       " 'Wurmple': 'Bug',\n",
       " 'Wynaut': 'Psychic',\n",
       " 'Xatu': 'Psychic',\n",
       " 'Xerneas': 'Fairy',\n",
       " 'Yamask': 'Ghost',\n",
       " 'Yanma': 'Bug',\n",
       " 'Yanmega': 'Bug',\n",
       " 'Yveltal': 'Dark',\n",
       " 'Zangoose': 'Normal',\n",
       " 'Zapdos': 'Electric',\n",
       " 'Zebstrika': 'Electric',\n",
       " 'Zekrom': 'Dragon',\n",
       " 'Zigzagoon': 'Normal',\n",
       " 'Zoroark': 'Dark',\n",
       " 'Zorua': 'Dark',\n",
       " 'Zubat': 'Poison',\n",
       " 'Zweilous': 'Dark',\n",
       " 'Zygarde': 'Dragon'}"
      ]
     },
     "execution_count": 24,
     "metadata": {},
     "output_type": "execute_result"
    }
   ],
   "source": [
    "pokemon_types = pd.read_csv(\"data/pokemon.csv\", index_col=\"Pokemon\", squeeze=True).to_dict()\n",
    "pokemon_types"
   ]
  },
  {
   "cell_type": "code",
   "execution_count": 27,
   "metadata": {},
   "outputs": [
    {
     "data": {
      "text/plain": [
       "0         Grass\n",
       "1         Grass\n",
       "2         Grass\n",
       "3          Fire\n",
       "4          Fire\n",
       "5          Fire\n",
       "6         Water\n",
       "7         Water\n",
       "8         Water\n",
       "9           Bug\n",
       "10          Bug\n",
       "11          Bug\n",
       "12          Bug\n",
       "13          Bug\n",
       "14          Bug\n",
       "15       Normal\n",
       "16       Normal\n",
       "17       Normal\n",
       "18       Normal\n",
       "19       Normal\n",
       "20       Normal\n",
       "21       Normal\n",
       "22       Poison\n",
       "23       Poison\n",
       "24     Electric\n",
       "25     Electric\n",
       "26       Ground\n",
       "27       Ground\n",
       "28       Poison\n",
       "29       Poison\n",
       "         ...   \n",
       "691       Water\n",
       "692       Water\n",
       "693    Electric\n",
       "694    Electric\n",
       "695        Rock\n",
       "696        Rock\n",
       "697        Rock\n",
       "698        Rock\n",
       "699       Fairy\n",
       "700    Fighting\n",
       "701    Electric\n",
       "702        Rock\n",
       "703      Dragon\n",
       "704      Dragon\n",
       "705      Dragon\n",
       "706       Steel\n",
       "707       Ghost\n",
       "708       Ghost\n",
       "709       Ghost\n",
       "710       Ghost\n",
       "711         Ice\n",
       "712         Ice\n",
       "713      Flying\n",
       "714      Flying\n",
       "715       Fairy\n",
       "716        Dark\n",
       "717      Dragon\n",
       "718        Rock\n",
       "719     Psychic\n",
       "720        Fire\n",
       "Name: Pokemon, Length: 721, dtype: object"
      ]
     },
     "execution_count": 27,
     "metadata": {},
     "output_type": "execute_result"
    }
   ],
   "source": [
    "pokemon_names.map(pokemon_types)"
   ]
  },
  {
   "cell_type": "code",
   "execution_count": 2,
   "metadata": {},
   "outputs": [],
   "source": [
    "import pandas as pd"
   ]
  },
  {
   "cell_type": "code",
   "execution_count": 33,
   "metadata": {},
   "outputs": [
    {
     "data": {
      "text/plain": [
       "1122    170.05\n",
       "2447    529.92\n",
       "1533    257.74\n",
       "522     201.79\n",
       "1719    242.27\n",
       "1314    274.05\n",
       "933     297.15\n",
       "1350    309.39\n",
       "1312    268.38\n",
       "332     206.10\n",
       "Name: Stock Price, dtype: float64"
      ]
     },
     "execution_count": 33,
     "metadata": {},
     "output_type": "execute_result"
    }
   ],
   "source": [
    "google = pd.read_csv(\"data/google_stock_price.csv\", squeeze=True)\n",
    "google_sample = google.sample(10)\n",
    "google_sample"
   ]
  },
  {
   "cell_type": "code",
   "execution_count": 31,
   "metadata": {},
   "outputs": [],
   "source": [
    "def stock_spike(number):\n",
    "    if number > 500:\n",
    "        number *= 3\n",
    "    else:\n",
    "        number *= 2\n",
    "    return number"
   ]
  },
  {
   "cell_type": "code",
   "execution_count": 38,
   "metadata": {},
   "outputs": [
    {
     "data": {
      "text/plain": [
       "1122     680.20\n",
       "2447    4769.28\n",
       "1533    1546.44\n",
       "522      807.16\n",
       "1719     969.08\n",
       "1314    1644.30\n",
       "933     1782.90\n",
       "1350    1856.34\n",
       "1312    1610.28\n",
       "332      824.40\n",
       "Name: Stock Price, dtype: float64"
      ]
     },
     "execution_count": 38,
     "metadata": {},
     "output_type": "execute_result"
    }
   ],
   "source": [
    "google_sample = google_sample.apply(stock_spike)\n",
    "google_sample"
   ]
  },
  {
   "cell_type": "code",
   "execution_count": 39,
   "metadata": {},
   "outputs": [
    {
     "data": {
      "text/plain": [
       "1122     730.20\n",
       "2447    4819.28\n",
       "1533    1596.44\n",
       "522      857.16\n",
       "1719    1019.08\n",
       "1314    1694.30\n",
       "933     1832.90\n",
       "1350    1906.34\n",
       "1312    1660.28\n",
       "332      874.40\n",
       "Name: Stock Price, dtype: float64"
      ]
     },
     "execution_count": 39,
     "metadata": {},
     "output_type": "execute_result"
    }
   ],
   "source": [
    "google_sample.apply(lambda stock_price : stock_price + 50)"
   ]
  },
  {
   "cell_type": "code",
   "execution_count": 4,
   "metadata": {},
   "outputs": [
    {
     "data": {
      "text/plain": [
       "0        Izzy\n",
       "1         Zoe\n",
       "2    Bridgett\n",
       "3      Graham\n",
       "dtype: object"
      ]
     },
     "execution_count": 4,
     "metadata": {},
     "output_type": "execute_result"
    }
   ],
   "source": [
    "names = pd.Series(['Izzy', 'Zoe', 'Bridgett', 'Graham'])\n",
    "names"
   ]
  },
  {
   "cell_type": "code",
   "execution_count": 5,
   "metadata": {},
   "outputs": [
    {
     "data": {
      "text/plain": [
       "{'Bridgett': 'Taurus', 'Graham': 'Leo', 'Izzy': 'Leo', 'Zoe': 'Aries'}"
      ]
     },
     "execution_count": 5,
     "metadata": {},
     "output_type": "execute_result"
    }
   ],
   "source": [
    "star_signs = pd.Series(['Leo', 'Aries', 'Taurus', 'Leo'], index=names).to_dict()\n",
    "star_signs"
   ]
  },
  {
   "cell_type": "code",
   "execution_count": 6,
   "metadata": {},
   "outputs": [],
   "source": [
    "signs = names.map(star_signs)"
   ]
  },
  {
   "cell_type": "code",
   "execution_count": 7,
   "metadata": {},
   "outputs": [
    {
     "data": {
      "text/plain": [
       "Leo       2\n",
       "Taurus    1\n",
       "Aries     1\n",
       "dtype: int64"
      ]
     },
     "execution_count": 7,
     "metadata": {},
     "output_type": "execute_result"
    }
   ],
   "source": [
    "signs.value_counts()"
   ]
  },
  {
   "cell_type": "code",
   "execution_count": 8,
   "metadata": {},
   "outputs": [
    {
     "data": {
      "text/plain": [
       "count       4\n",
       "unique      3\n",
       "top       Leo\n",
       "freq        2\n",
       "dtype: object"
      ]
     },
     "execution_count": 8,
     "metadata": {},
     "output_type": "execute_result"
    }
   ],
   "source": [
    "signs.describe()"
   ]
  },
  {
   "cell_type": "code",
   "execution_count": 11,
   "metadata": {},
   "outputs": [
    {
     "data": {
      "text/plain": [
       "Bridgett       Leo\n",
       "Izzy        Taurus\n",
       "Graham      Gemini\n",
       "dtype: object"
      ]
     },
     "execution_count": 11,
     "metadata": {},
     "output_type": "execute_result"
    }
   ],
   "source": [
    "star_signs_less = pd.Series(['Leo', 'Taurus', 'Gemini'], index=['Bridgett', 'Izzy', 'Graham'])\n",
    "star_signs_less"
   ]
  },
  {
   "cell_type": "code",
   "execution_count": 16,
   "metadata": {},
   "outputs": [
    {
     "data": {
      "text/plain": [
       "0    Taurus\n",
       "1       NaN\n",
       "2       Leo\n",
       "3    Gemini\n",
       "dtype: object"
      ]
     },
     "execution_count": 16,
     "metadata": {},
     "output_type": "execute_result"
    }
   ],
   "source": [
    "names_ss = names.map(star_signs_less)\n",
    "names_ss"
   ]
  },
  {
   "cell_type": "code",
   "execution_count": 18,
   "metadata": {},
   "outputs": [
    {
     "data": {
      "text/plain": [
       "0    False\n",
       "1     True\n",
       "2    False\n",
       "3    False\n",
       "dtype: bool"
      ]
     },
     "execution_count": 18,
     "metadata": {},
     "output_type": "execute_result"
    }
   ],
   "source": [
    "names_ss.isnull()"
   ]
  },
  {
   "cell_type": "code",
   "execution_count": 19,
   "metadata": {},
   "outputs": [
    {
     "data": {
      "text/plain": [
       "0    Taurus\n",
       "2       Leo\n",
       "3    Gemini\n",
       "dtype: object"
      ]
     },
     "execution_count": 19,
     "metadata": {},
     "output_type": "execute_result"
    }
   ],
   "source": [
    "names_ss.dropna()"
   ]
  },
  {
   "cell_type": "code",
   "execution_count": 22,
   "metadata": {},
   "outputs": [
    {
     "data": {
      "text/plain": [
       "1    NaN\n",
       "dtype: object"
      ]
     },
     "execution_count": 22,
     "metadata": {},
     "output_type": "execute_result"
    }
   ],
   "source": [
    "names_ss[names_ss.isna()]"
   ]
  },
  {
   "cell_type": "code",
   "execution_count": 30,
   "metadata": {},
   "outputs": [
    {
     "data": {
      "text/plain": [
       "Bob        80\n",
       "John       85\n",
       "Terry      62\n",
       "Arthur     88\n",
       "James      91\n",
       "Gary      101\n",
       "dtype: int64"
      ]
     },
     "execution_count": 30,
     "metadata": {},
     "output_type": "execute_result"
    }
   ],
   "source": [
    "iq = pd.Series([80, 85, 62,  88, 91, 101], index=['Bob','John','Terry','Arthur','James','Gary'])\n",
    "iq"
   ]
  },
  {
   "cell_type": "code",
   "execution_count": 31,
   "metadata": {},
   "outputs": [
    {
     "data": {
      "text/plain": [
       "Bob       120.0\n",
       "John      127.5\n",
       "Terry      93.0\n",
       "Arthur    132.0\n",
       "James     136.5\n",
       "Gary      151.5\n",
       "dtype: float64"
      ]
     },
     "execution_count": 31,
     "metadata": {},
     "output_type": "execute_result"
    }
   ],
   "source": [
    "iq.apply(lambda iq : iq * 1.5)"
   ]
  },
  {
   "cell_type": "code",
   "execution_count": 37,
   "metadata": {},
   "outputs": [],
   "source": [
    "def uplift_iq(iq):\n",
    "    iq = iq * 1.55\n",
    "    return iq"
   ]
  },
  {
   "cell_type": "code",
   "execution_count": 38,
   "metadata": {},
   "outputs": [
    {
     "data": {
      "text/plain": [
       "Bob       124.00\n",
       "John      131.75\n",
       "Terry      96.10\n",
       "Arthur    136.40\n",
       "James     141.05\n",
       "Gary      156.55\n",
       "dtype: float64"
      ]
     },
     "execution_count": 38,
     "metadata": {},
     "output_type": "execute_result"
    }
   ],
   "source": [
    "iq.apply(uplift_iq)"
   ]
  },
  {
   "cell_type": "code",
   "execution_count": 39,
   "metadata": {},
   "outputs": [],
   "source": [
    "import numpy as np"
   ]
  },
  {
   "cell_type": "code",
   "execution_count": 40,
   "metadata": {},
   "outputs": [
    {
     "data": {
      "text/plain": [
       "Bob       4.382027\n",
       "John      4.442651\n",
       "Terry     4.127134\n",
       "Arthur    4.477337\n",
       "James     4.510860\n",
       "Gary      4.615121\n",
       "dtype: float64"
      ]
     },
     "execution_count": 40,
     "metadata": {},
     "output_type": "execute_result"
    }
   ],
   "source": [
    "iq.apply(np.log)"
   ]
  },
  {
   "cell_type": "code",
   "execution_count": 46,
   "metadata": {},
   "outputs": [
    {
     "data": {
      "text/plain": [
       "Bob     80\n",
       "John    85\n",
       "dtype: int64"
      ]
     },
     "execution_count": 46,
     "metadata": {},
     "output_type": "execute_result"
    }
   ],
   "source": [
    "iq.loc[['Bob', 'John']]"
   ]
  },
  {
   "cell_type": "code",
   "execution_count": 48,
   "metadata": {},
   "outputs": [
    {
     "data": {
      "text/plain": [
       "0     1\n",
       "1     5\n",
       "2    10\n",
       "3    15\n",
       "4    20\n",
       "dtype: int64"
      ]
     },
     "execution_count": 48,
     "metadata": {},
     "output_type": "execute_result"
    }
   ],
   "source": [
    "some_nums = pd.Series([1,5,10,15,20])\n",
    "some_nums"
   ]
  },
  {
   "cell_type": "code",
   "execution_count": 53,
   "metadata": {},
   "outputs": [
    {
     "data": {
      "text/plain": [
       "1     5\n",
       "2    10\n",
       "3    15\n",
       "4    20\n",
       "dtype: int64"
      ]
     },
     "execution_count": 53,
     "metadata": {},
     "output_type": "execute_result"
    }
   ],
   "source": [
    "some_nums.iloc[1:5]"
   ]
  },
  {
   "cell_type": "code",
   "execution_count": 54,
   "metadata": {},
   "outputs": [
    {
     "data": {
      "text/plain": [
       "(5,)"
      ]
     },
     "execution_count": 54,
     "metadata": {},
     "output_type": "execute_result"
    }
   ],
   "source": [
    "some_nums.shape"
   ]
  },
  {
   "cell_type": "code",
   "execution_count": 55,
   "metadata": {},
   "outputs": [
    {
     "data": {
      "text/plain": [
       "5"
      ]
     },
     "execution_count": 55,
     "metadata": {},
     "output_type": "execute_result"
    }
   ],
   "source": [
    "len(some_nums)"
   ]
  }
 ],
 "metadata": {
  "kernelspec": {
   "display_name": "Python 3",
   "language": "python",
   "name": "python3"
  },
  "language_info": {
   "codemirror_mode": {
    "name": "ipython",
    "version": 3
   },
   "file_extension": ".py",
   "mimetype": "text/x-python",
   "name": "python",
   "nbconvert_exporter": "python",
   "pygments_lexer": "ipython3",
   "version": "3.6.4"
  }
 },
 "nbformat": 4,
 "nbformat_minor": 2
}
