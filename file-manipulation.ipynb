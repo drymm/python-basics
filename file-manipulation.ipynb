{
 "cells": [
  {
   "cell_type": "code",
   "execution_count": 1,
   "metadata": {},
   "outputs": [],
   "source": [
    "import os"
   ]
  },
  {
   "cell_type": "code",
   "execution_count": 20,
   "metadata": {},
   "outputs": [],
   "source": [
    "path = '/Users/graham/projects/python-basics'"
   ]
  },
  {
   "cell_type": "code",
   "execution_count": 21,
   "metadata": {},
   "outputs": [
    {
     "data": {
      "text/plain": [
       "'/Users/graham/projects/python-basics'"
      ]
     },
     "execution_count": 21,
     "metadata": {},
     "output_type": "execute_result"
    }
   ],
   "source": [
    "os.path.abspath(path)"
   ]
  },
  {
   "cell_type": "code",
   "execution_count": 22,
   "metadata": {},
   "outputs": [
    {
     "data": {
      "text/plain": [
       "'python-basics'"
      ]
     },
     "execution_count": 22,
     "metadata": {},
     "output_type": "execute_result"
    }
   ],
   "source": [
    "os.path.basename(path)"
   ]
  },
  {
   "cell_type": "code",
   "execution_count": 26,
   "metadata": {},
   "outputs": [
    {
     "data": {
      "text/plain": [
       "['.DS_Store',\n",
       " '.git',\n",
       " '.idea',\n",
       " '.ipynb_checkpoints',\n",
       " '__pycache__',\n",
       " 'append_stats.py',\n",
       " 'data',\n",
       " 'dominostats.json',\n",
       " 'Dot.ipynb',\n",
       " 'for-in.py',\n",
       " 'Format.ipynb',\n",
       " 'Iris-KMeans.ipynb',\n",
       " 'json_stats.py',\n",
       " 'Keyboard Shortcuts.ipynb',\n",
       " 'Numpy Arrays.ipynb',\n",
       " 'Operators.ipynb',\n",
       " 'pandas-apply-map.ipynb',\n",
       " 'pandas-df-1.ipynb',\n",
       " 'pandas-index-positions.ipynb',\n",
       " 'pandas-math.ipynb',\n",
       " 'pandas-more-attributes.ipynb',\n",
       " 'pandas-read-csv.ipynb',\n",
       " 'pandas-series-attr-methods.ipynb',\n",
       " 'pandas.ipynb',\n",
       " 'Plotly.ipynb',\n",
       " 'Range.ipynb',\n",
       " 'read_json.py',\n",
       " 'README.md',\n",
       " 'Time.ipynb',\n",
       " 'Untitled.ipynb',\n",
       " 'var']"
      ]
     },
     "execution_count": 26,
     "metadata": {},
     "output_type": "execute_result"
    }
   ],
   "source": [
    "os.listdir(path)"
   ]
  },
  {
   "cell_type": "code",
   "execution_count": 36,
   "metadata": {},
   "outputs": [
    {
     "name": "stdout",
     "output_type": "stream",
     "text": [
      ".DS_Store\n",
      "append_stats.py\n",
      "dominostats.json\n",
      "Dot.ipynb\n",
      "file-manipulation.ipynb\n",
      "for-in.py\n",
      "Format.ipynb\n",
      "Iris-KMeans.ipynb\n",
      "json_stats.py\n",
      "Keyboard Shortcuts.ipynb\n",
      "Numpy Arrays.ipynb\n",
      "Operators.ipynb\n",
      "pandas-apply-map.ipynb\n",
      "pandas-df-1.ipynb\n",
      "pandas-index-positions.ipynb\n",
      "pandas-math.ipynb\n",
      "pandas-more-attributes.ipynb\n",
      "pandas-read-csv.ipynb\n",
      "pandas-series-attr-methods.ipynb\n",
      "pandas.ipynb\n",
      "Plotly.ipynb\n",
      "Range.ipynb\n",
      "read_json.py\n",
      "README.md\n",
      "Time.ipynb\n"
     ]
    }
   ],
   "source": [
    "for file in os.listdir(path):\n",
    "    if(os.path.isfile(file)):\n",
    "        print(file)"
   ]
  },
  {
   "cell_type": "code",
   "execution_count": 15,
   "metadata": {},
   "outputs": [
    {
     "name": "stdout",
     "output_type": "stream",
     "text": [
      "['.ipynb_checkpoints', 'audiobook', 'flask', 'linear-regression', 'logistic-regression', 'mnist', 'model-test', 'python-basics', 'salt-vagrant-demo', 'ThinkStats2']\n",
      "[]\n",
      "['.git', '.ipynb_checkpoints', 'data']\n",
      "['branches', 'hooks', 'info', 'logs', 'objects', 'refs']\n",
      "[]\n",
      "[]\n",
      "[]\n",
      "['refs']\n",
      "['heads', 'remotes']\n",
      "[]\n",
      "['origin']\n",
      "[]\n",
      "['0a', '0e', '26', '27', '49', '54', '67', '74', '75', '8d', '8f', 'ae', 'df', 'e2', 'f2', 'fb', 'info', 'pack']\n",
      "[]\n",
      "[]\n",
      "[]\n",
      "[]\n",
      "[]\n",
      "[]\n",
      "[]\n",
      "[]\n",
      "[]\n",
      "[]\n",
      "[]\n",
      "[]\n",
      "[]\n",
      "[]\n",
      "[]\n",
      "[]\n",
      "[]\n",
      "[]\n",
      "['heads', 'remotes', 'tags']\n",
      "[]\n",
      "['origin']\n",
      "[]\n",
      "[]\n",
      "[]\n",
      "[]\n",
      "['__pycache__']\n",
      "[]\n",
      "['.git', '.idea']\n",
      "['branches', 'hooks', 'info', 'logs', 'objects', 'refs']\n",
      "[]\n",
      "[]\n",
      "[]\n",
      "['refs']\n",
      "['heads', 'remotes']\n",
      "[]\n",
      "['origin']\n",
      "[]\n",
      "['01', '3a', '57', '6f', '90', '93', '99', 'c1', 'c5', 'd2', 'e2', 'ee', 'f5', 'info', 'pack']\n",
      "[]\n",
      "[]\n",
      "[]\n",
      "[]\n",
      "[]\n",
      "[]\n",
      "[]\n",
      "[]\n",
      "[]\n",
      "[]\n",
      "[]\n",
      "[]\n",
      "[]\n",
      "[]\n",
      "[]\n",
      "['heads', 'remotes', 'tags']\n",
      "[]\n",
      "['origin']\n",
      "[]\n",
      "[]\n",
      "['libraries']\n",
      "[]\n",
      "['.git', '.ipynb_checkpoints']\n",
      "['branches', 'hooks', 'info', 'logs', 'objects', 'refs']\n",
      "[]\n",
      "[]\n",
      "[]\n",
      "['refs']\n",
      "['heads', 'remotes']\n",
      "[]\n",
      "['origin']\n",
      "[]\n",
      "['2a', '6d', '76', '7a', '99', 'ad', 'f7', 'fd', 'fe', 'info', 'pack']\n",
      "[]\n",
      "[]\n",
      "[]\n",
      "[]\n",
      "[]\n",
      "[]\n",
      "[]\n",
      "[]\n",
      "[]\n",
      "[]\n",
      "[]\n",
      "['heads', 'remotes', 'tags']\n",
      "[]\n",
      "['origin']\n",
      "[]\n",
      "[]\n",
      "[]\n",
      "['.git', '.ipynb_checkpoints']\n",
      "['branches', 'hooks', 'info', 'logs', 'objects', 'refs']\n",
      "[]\n",
      "[]\n",
      "[]\n",
      "['refs']\n",
      "['heads', 'remotes']\n",
      "[]\n",
      "['origin']\n",
      "[]\n",
      "['17', '1d', '2a', '45', '49', '4d', '6e', '7f', '86', 'a1', 'bf', 'cd', 'da', 'e9', 'info', 'pack']\n",
      "[]\n",
      "[]\n",
      "[]\n",
      "[]\n",
      "[]\n",
      "[]\n",
      "[]\n",
      "[]\n",
      "[]\n",
      "[]\n",
      "[]\n",
      "[]\n",
      "[]\n",
      "[]\n",
      "[]\n",
      "[]\n",
      "['heads', 'remotes', 'tags']\n",
      "[]\n",
      "['origin']\n",
      "[]\n",
      "[]\n",
      "[]\n",
      "[]\n",
      "['.git', '.idea', '.ipynb_checkpoints', '__pycache__', 'data', 'var']\n",
      "['branches', 'hooks', 'info', 'logs', 'objects', 'refs']\n",
      "[]\n",
      "[]\n",
      "[]\n",
      "['refs']\n",
      "['heads', 'remotes']\n",
      "[]\n",
      "['origin']\n",
      "[]\n",
      "['08', '35', '4a', '59', '60', '63', '81', '93', 'b2', 'bd', 'ca', 'dc', 'f1', 'info', 'pack']\n",
      "[]\n",
      "[]\n",
      "[]\n",
      "[]\n",
      "[]\n",
      "[]\n",
      "[]\n",
      "[]\n",
      "[]\n",
      "[]\n",
      "[]\n",
      "[]\n",
      "[]\n",
      "[]\n",
      "[]\n",
      "['heads', 'remotes', 'tags']\n",
      "[]\n",
      "['origin']\n",
      "[]\n",
      "[]\n",
      "['libraries']\n",
      "[]\n",
      "[]\n",
      "[]\n",
      "[]\n",
      "['folders']\n",
      "['wc']\n",
      "['3s21sp3s5lvgf2rd_2tgdqfw0000gn']\n",
      "['T']\n",
      "[]\n",
      "['.git', '.vagrant', 'saltstack']\n",
      "['branches', 'hooks', 'info', 'logs', 'objects', 'refs']\n",
      "[]\n",
      "[]\n",
      "[]\n",
      "['refs']\n",
      "['heads', 'remotes']\n",
      "[]\n",
      "['origin']\n",
      "[]\n",
      "['info', 'pack']\n",
      "[]\n",
      "[]\n",
      "['heads', 'remotes', 'tags']\n",
      "[]\n",
      "['origin']\n",
      "[]\n",
      "[]\n",
      "['machines']\n",
      "['master', 'minion1', 'minion2']\n",
      "['virtualbox']\n",
      "[]\n",
      "['virtualbox']\n",
      "[]\n",
      "['virtualbox']\n",
      "[]\n",
      "['etc', 'keys', 'pillar', 'salt']\n",
      "[]\n",
      "[]\n",
      "[]\n",
      "['common']\n",
      "[]\n",
      "['.git', 'book', 'code']\n",
      "['branches', 'hooks', 'info', 'logs', 'objects', 'refs']\n",
      "[]\n",
      "[]\n",
      "[]\n",
      "['refs']\n",
      "['heads', 'remotes']\n",
      "[]\n",
      "['origin']\n",
      "[]\n",
      "['info', 'pack']\n",
      "[]\n",
      "[]\n",
      "['heads', 'remotes', 'tags']\n",
      "[]\n",
      "['origin']\n",
      "[]\n",
      "[]\n",
      "['figs']\n",
      "[]\n",
      "['.ipynb_checkpoints', '__pycache__']\n",
      "[]\n",
      "[]\n"
     ]
    }
   ],
   "source": [
    "for root, dirs, files in os.walk(path):\n",
    "    print(dirs)"
   ]
  },
  {
   "cell_type": "code",
   "execution_count": 6,
   "metadata": {},
   "outputs": [
    {
     "data": {
      "text/plain": [
       "'/anaconda3/bin:/usr/local/bin:/usr/bin:/bin:/usr/sbin:/sbin:/Applications/domino'"
      ]
     },
     "execution_count": 6,
     "metadata": {},
     "output_type": "execute_result"
    }
   ],
   "source": [
    "os.environ['PATH']"
   ]
  }
 ],
 "metadata": {
  "kernelspec": {
   "display_name": "Python 3",
   "language": "python",
   "name": "python3"
  },
  "language_info": {
   "codemirror_mode": {
    "name": "ipython",
    "version": 3
   },
   "file_extension": ".py",
   "mimetype": "text/x-python",
   "name": "python",
   "nbconvert_exporter": "python",
   "pygments_lexer": "ipython3",
   "version": "3.6.4"
  }
 },
 "nbformat": 4,
 "nbformat_minor": 2
}
